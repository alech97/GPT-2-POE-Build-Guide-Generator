{
 "cells": [
  {
   "cell_type": "code",
   "execution_count": 1,
   "metadata": {},
   "outputs": [],
   "source": [
    "from tqdm import tqdm_notebook as tqdm\n",
    "import random\n",
    "import builds\n",
    "import time\n",
    "import os"
   ]
  },
  {
   "cell_type": "code",
   "execution_count": null,
   "metadata": {},
   "outputs": [
    {
     "data": {
      "application/vnd.jupyter.widget-view+json": {
       "model_id": "323b994f3f9345ce90e73bd7e0456e24",
       "version_major": 2,
       "version_minor": 0
      },
      "text/plain": [
       "HBox(children=(IntProgress(value=0, max=1000), HTML(value='')))"
      ]
     },
     "metadata": {},
     "output_type": "display_data"
    }
   ],
   "source": [
    "searcher = builds.BuildSearcher(\n",
    "    'build_forum_keys.txt', \n",
    "    1000, \n",
    "    delay_mean_sec=0.1\n",
    ")\n",
    "searcher.crawl_forum(classes=['Witch'])"
   ]
  },
  {
   "cell_type": "code",
   "execution_count": null,
   "metadata": {},
   "outputs": [],
   "source": [
    "FOLDER_DIR = 'Builds'\n",
    "\n",
    "if not os.path.exists(FOLDER_DIR):\n",
    "    os.makedirs(FOLDER_DIR)\n",
    "with open('build_forum_keys.txt', 'r') as f:\n",
    "    for line in tqdm(f.readlines()):\n",
    "        line = line.split(' - ')\n",
    "        thread_number = line[0]\n",
    "        if thread_number.startswith(\"b'\") or type(thread_number) == bytes:\n",
    "            thread_number = thread_number.split(\"'\")[1]\n",
    "        filename = FOLDER_DIR + '/' + thread_number + '.txt'\n",
    "        if os.path.exists(filename):\n",
    "            continue\n",
    "        builds.Build(thread_number).write(filename)\n",
    "        time.sleep(0.2 * random.random())"
   ]
  },
  {
   "cell_type": "code",
   "execution_count": null,
   "metadata": {},
   "outputs": [],
   "source": []
  }
 ],
 "metadata": {
  "kernelspec": {
   "display_name": "Python 3",
   "language": "python",
   "name": "python3"
  },
  "language_info": {
   "codemirror_mode": {
    "name": "ipython",
    "version": 3
   },
   "file_extension": ".py",
   "mimetype": "text/x-python",
   "name": "python",
   "nbconvert_exporter": "python",
   "pygments_lexer": "ipython3",
   "version": "3.7.3"
  }
 },
 "nbformat": 4,
 "nbformat_minor": 2
}
